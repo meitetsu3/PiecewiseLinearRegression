{
 "cells": [
  {
   "cell_type": "markdown",
   "metadata": {},
   "source": [
    "# Piecewise Linear Regression - Robustness test\n"
   ]
  },
  {
   "cell_type": "markdown",
   "metadata": {},
   "source": [
    "Answer:"
   ]
  },
  {
   "cell_type": "markdown",
   "metadata": {},
   "source": [
    "## Import sample data"
   ]
  },
  {
   "cell_type": "code",
   "execution_count": 21,
   "metadata": {},
   "outputs": [
    {
     "data": {
      "text/html": [
       "<div>\n",
       "<style scoped>\n",
       "    .dataframe tbody tr th:only-of-type {\n",
       "        vertical-align: middle;\n",
       "    }\n",
       "\n",
       "    .dataframe tbody tr th {\n",
       "        vertical-align: top;\n",
       "    }\n",
       "\n",
       "    .dataframe thead th {\n",
       "        text-align: right;\n",
       "    }\n",
       "</style>\n",
       "<table border=\"1\" class=\"dataframe\">\n",
       "  <thead>\n",
       "    <tr style=\"text-align: right;\">\n",
       "      <th></th>\n",
       "      <th>Date</th>\n",
       "      <th>Year</th>\n",
       "      <th>X</th>\n",
       "      <th>Y</th>\n",
       "    </tr>\n",
       "  </thead>\n",
       "  <tbody>\n",
       "    <tr>\n",
       "      <th>0</th>\n",
       "      <td>05/08/85</td>\n",
       "      <td>1985</td>\n",
       "      <td>3.936450</td>\n",
       "      <td>0.049770</td>\n",
       "    </tr>\n",
       "    <tr>\n",
       "      <th>1</th>\n",
       "      <td>05/15/85</td>\n",
       "      <td>1985</td>\n",
       "      <td>2.945258</td>\n",
       "      <td>0.009324</td>\n",
       "    </tr>\n",
       "    <tr>\n",
       "      <th>2</th>\n",
       "      <td>05/25/85</td>\n",
       "      <td>1985</td>\n",
       "      <td>3.653253</td>\n",
       "      <td>0.016485</td>\n",
       "    </tr>\n",
       "    <tr>\n",
       "      <th>3</th>\n",
       "      <td>05/30/85</td>\n",
       "      <td>1985</td>\n",
       "      <td>2.831979</td>\n",
       "      <td>0.013104</td>\n",
       "    </tr>\n",
       "    <tr>\n",
       "      <th>4</th>\n",
       "      <td>06/05/85</td>\n",
       "      <td>1985</td>\n",
       "      <td>1.925746</td>\n",
       "      <td>0.003601</td>\n",
       "    </tr>\n",
       "  </tbody>\n",
       "</table>\n",
       "</div>"
      ],
      "text/plain": [
       "       Date  Year         X         Y\n",
       "0  05/08/85  1985  3.936450  0.049770\n",
       "1  05/15/85  1985  2.945258  0.009324\n",
       "2  05/25/85  1985  3.653253  0.016485\n",
       "3  05/30/85  1985  2.831979  0.013104\n",
       "4  06/05/85  1985  1.925746  0.003601"
      ]
     },
     "execution_count": 21,
     "metadata": {},
     "output_type": "execute_result"
    }
   ],
   "source": [
    "\"\"\"\n",
    "import sample data\n",
    "\"\"\"\n",
    "import pandas as pd\n",
    "import numpy as np\n",
    "import matplotlib.pyplot as plt\n",
    "\n",
    "#data = pd.read_csv(\"RDS-2007-0004\\Data\\HAYDEN_bedloadtransport.csv\",skiprows=7)\n",
    "data = pd.read_csv(\"RDS-2007-0004\\Data\\LTLGRAN_bedloadtransport.csv\",skiprows=7)\n",
    "data.head()"
   ]
  },
  {
   "cell_type": "code",
   "execution_count": 22,
   "metadata": {},
   "outputs": [
    {
     "data": {
      "image/png": "[encoded data removed]",
      "text/plain": [
       "<Figure size 432x288 with 1 Axes>"
      ]
     },
     "metadata": {},
     "output_type": "display_data"
    }
   ],
   "source": [
    "plt.scatter(data['X'],data['Y'])\n",
    "plt.xlabel('$X$')\n",
    "plt.ylabel('$Y$')\n",
    "plt.show()"
   ]
  },
  {
   "cell_type": "markdown",
   "metadata": {},
   "source": [
    "### adding 2 outliers\n",
    "\n"
   ]
  },
  {
   "cell_type": "code",
   "execution_count": 23,
   "metadata": {},
   "outputs": [
    {
     "data": {
      "text/html": [
       "<div>\n",
       "<style scoped>\n",
       "    .dataframe tbody tr th:only-of-type {\n",
       "        vertical-align: middle;\n",
       "    }\n",
       "\n",
       "    .dataframe tbody tr th {\n",
       "        vertical-align: top;\n",
       "    }\n",
       "\n",
       "    .dataframe thead th {\n",
       "        text-align: right;\n",
       "    }\n",
       "</style>\n",
       "<table border=\"1\" class=\"dataframe\">\n",
       "  <thead>\n",
       "    <tr style=\"text-align: right;\">\n",
       "      <th></th>\n",
       "      <th>Date</th>\n",
       "      <th>Year</th>\n",
       "      <th>X</th>\n",
       "      <th>Y</th>\n",
       "    </tr>\n",
       "  </thead>\n",
       "  <tbody>\n",
       "    <tr>\n",
       "      <th>120</th>\n",
       "      <td>06/12/97</td>\n",
       "      <td>1997</td>\n",
       "      <td>5.688951</td>\n",
       "      <td>0.111158</td>\n",
       "    </tr>\n",
       "    <tr>\n",
       "      <th>121</th>\n",
       "      <td>06/13/97</td>\n",
       "      <td>1997</td>\n",
       "      <td>5.089397</td>\n",
       "      <td>0.058052</td>\n",
       "    </tr>\n",
       "    <tr>\n",
       "      <th>122</th>\n",
       "      <td>06/13/97</td>\n",
       "      <td>1997</td>\n",
       "      <td>4.918480</td>\n",
       "      <td>0.049870</td>\n",
       "    </tr>\n",
       "    <tr>\n",
       "      <th>123</th>\n",
       "      <td>01/01/18</td>\n",
       "      <td>2018</td>\n",
       "      <td>12.000000</td>\n",
       "      <td>5.000000</td>\n",
       "    </tr>\n",
       "    <tr>\n",
       "      <th>124</th>\n",
       "      <td>10/01/18</td>\n",
       "      <td>2018</td>\n",
       "      <td>8.000000</td>\n",
       "      <td>4.000000</td>\n",
       "    </tr>\n",
       "  </tbody>\n",
       "</table>\n",
       "</div>"
      ],
      "text/plain": [
       "         Date  Year          X         Y\n",
       "120  06/12/97  1997   5.688951  0.111158\n",
       "121  06/13/97  1997   5.089397  0.058052\n",
       "122  06/13/97  1997   4.918480  0.049870\n",
       "123  01/01/18  2018  12.000000  5.000000\n",
       "124  10/01/18  2018   8.000000  4.000000"
      ]
     },
     "execution_count": 23,
     "metadata": {},
     "output_type": "execute_result"
    }
   ],
   "source": [
    "data = data.append({\"Date\":\"01/01/18\",\"Year\":\"2018\", \"X\":12, \"Y\":5}, ignore_index=True)\n",
    "data = data.append({\"Date\":\"10/01/18\",\"Year\":\"2018\", \"X\":8, \"Y\":4}, ignore_index=True)\n",
    "data.tail()"
   ]
  },
  {
   "cell_type": "code",
   "execution_count": 24,
   "metadata": {},
   "outputs": [
    {
     "data": {
      "image/png": "[encoded data removed]",
      "text/plain": [
       "<Figure size 432x288 with 1 Axes>"
      ]
     },
     "metadata": {},
     "output_type": "display_data"
    }
   ],
   "source": [
    "plt.scatter(data['X'],data['Y'])\n",
    "plt.xlabel('$X$')\n",
    "plt.ylabel('$Y$')\n",
    "plt.show()"
   ]
  },
  {
   "cell_type": "markdown",
   "metadata": {},
   "source": [
    "The key of TF implementation is to understand computation graph, session , operation and palceholder."
   ]
  },
  {
   "cell_type": "code",
   "execution_count": 25,
   "metadata": {},
   "outputs": [
    {
     "data": {
      "text/plain": [
       "LinearRegression(copy_X=True, fit_intercept=True, n_jobs=1, normalize=False)"
      ]
     },
     "execution_count": 25,
     "metadata": {},
     "output_type": "execute_result"
    }
   ],
   "source": [
    "import tensorflow as tf\n",
    "from sklearn import linear_model\n",
    "\n",
    "\"\"\"\n",
    "parameters\n",
    "\"\"\"\n",
    "sample_rate = 0.3 # rondom sampling rate for each batch. \n",
    "#It does not have much capacity and probably not much worry about overfitting. 1.0 should be fine.\n",
    "epoc = 500\n",
    "input_dim = 1 # number of input dimention(variables)\n",
    "h1_dim = 3 # potential number of segments-1\n",
    "lamda = 0.0001 # L1 reglurarization\n",
    "lr=0.001 #learning rate\n",
    "\n",
    "\"\"\"\n",
    "fromatting numpy array\n",
    "\"\"\"\n",
    "X = np.array(data.X).reshape(-1,input_dim)\n",
    "Y = np.array(data.Y).reshape(-1,1)\n",
    "\n",
    "\n",
    "\"\"\"\n",
    "Util functions\n",
    "\"\"\"\n",
    "# next batch from stack overflow\n",
    "def next_batch(rate, data, labels):\n",
    "    '''\n",
    "    Return a total of `num` random samples and labels. \n",
    "    '''\n",
    "    idx = np.arange(0 , len(data))\n",
    "    np.random.shuffle(idx)\n",
    "    idx = idx[: int(len(data)*rate)]\n",
    "    data_shuffle = [data[ i] for i in idx]\n",
    "    labels_shuffle = [labels[ i] for i in idx]\n",
    "\n",
    "    return np.asarray(data_shuffle), np.asarray(labels_shuffle)\n",
    "\n",
    "\"\"\"\n",
    "helping search with a good initial values\n",
    "\"\"\"\n",
    "lreg = linear_model.LinearRegression()\n",
    "lreg.fit(X, Y)\n"
   ]
  },
  {
   "cell_type": "code",
   "execution_count": 26,
   "metadata": {},
   "outputs": [],
   "source": [
    "from datetime import datetime\n",
    "import os\n",
    "\n",
    "exptitle = 'MyFirstModel'\n",
    "results_path = './Results'\n",
    "\n",
    "def form_results():\n",
    "    \"\"\"\n",
    "    Forms folders for each run to store the tensorboard files and saved models.\n",
    "    \"\"\"\n",
    "    folder_name = \"/{0}_{1}\".format(datetime.now().strftime(\"%Y%m%d%H%M%S\"),exptitle)\n",
    "    tensorboard_path = results_path + folder_name + '/Tensorboard'\n",
    "    saved_model_path = results_path + folder_name + '/Saved_models/'\n",
    "    print(results_path + folder_name)\n",
    "    if not os.path.exists(results_path + folder_name):\n",
    "        os.makedirs(results_path + folder_name)\n",
    "        os.makedirs(tensorboard_path)\n",
    "        os.makedirs(saved_model_path)\n",
    "    return tensorboard_path, saved_model_path"
   ]
  },
  {
   "cell_type": "code",
   "execution_count": 31,
   "metadata": {},
   "outputs": [
    {
     "name": "stdout",
     "output_type": "stream",
     "text": [
      "./Results/20181018194737_RobustnessTest/Saved_models/\n",
      "INFO:tensorflow:Restoring parameters from ./Results/20181018194737_RobustnessTest/Saved_models/-499\n"
     ]
    },
    {
     "data": {
      "image/png": "[encoded data removed]",
      "text/plain": [
       "<Figure size 576x360 with 1 Axes>"
      ]
     },
     "metadata": {},
     "output_type": "display_data"
    }
   ],
   "source": [
    "import tensorflow as tf\n",
    "from sklearn import linear_model\n",
    "\n",
    "exptitle = 'RobustnessTest'\n",
    "mode = 0 # 1: training, 0:loading model\n",
    "model_loc = '/20181018194737_RobustnessTest/Saved_models/'\n",
    "\"\"\"\n",
    "parameters\n",
    "\"\"\"\n",
    "sample_rate = 0.3 # rondom sampling rate for each batch. \n",
    "#It does not have much capacity and probably not much worry about overfitting. 1.0 should be fine.\n",
    "epoc = 500\n",
    "input_dim = 1 # number of input dimention(variables)\n",
    "h1_dim = 3 # potential number of segments-1\n",
    "lamda = 0.001 # L1 reglurarization\n",
    "lr=0.001 #learning rate\n",
    "\n",
    "\"\"\"\n",
    "tensorflow graph\n",
    "\"\"\"\n",
    "# reset graph\n",
    "tf.reset_default_graph()\n",
    "\n",
    "# Placeholders for input data and the targets\n",
    "x_ph  = tf.placeholder(dtype=tf.float32, shape=[None, input_dim], name='Input')\n",
    "y_ph = tf.placeholder(dtype=tf.float32, shape=[None,1], name='Output')\n",
    "\n",
    "w = tf.get_variable(\"weight\", shape=[input_dim,h1_dim],\n",
    "                    initializer=tf.random_normal_initializer(mean=lreg.coef_[0][0]/h1_dim,stddev=0.001))\n",
    "b = tf.get_variable('bias1', shape = [1,h1_dim],\n",
    "                    initializer=tf.random_normal_initializer(mean=lreg.intercept_[0]/h1_dim, stddev=0.001))\n",
    "c = tf.get_variable('bias2', shape = [1,1],\n",
    "                    initializer=tf.random_normal_initializer(mean=0, stddev=0.001))\n",
    "\n",
    "h = tf.nn.relu(tf.add(tf.matmul(x_ph, w),b))\n",
    "y = tf.reduce_sum(h, axis = 1)+c\n",
    "\n",
    "L1 = tf.reduce_sum(tf.abs(w))\n",
    "loss = tf.losses.mean_squared_error(y_ph, tf.reshape(y,(-1,1)))+lamda*L1\n",
    "opt = tf.train.AdamOptimizer(learning_rate = lr).minimize(loss)\n",
    "\n",
    "init = tf.global_variables_initializer()\n",
    "\n",
    "\"\"\"\n",
    "Tensorboard scalar\n",
    "\"\"\"\n",
    "sm_L1 = tf.summary.scalar(name='L1', tensor=L1) ######\n",
    "sm_loss = tf.summary.scalar(name='mse_loss', tensor=loss) ######\n",
    "summary_op = tf.summary.merge_all() ######\n",
    "\n",
    "\"\"\"\n",
    "training\n",
    "\"\"\"\n",
    "steps = -1\n",
    "saver = tf.train.Saver() ######\n",
    "with tf.Session() as sess:  \n",
    "    if mode == 1:\n",
    "        sess.run(init)\n",
    "        tensorboard_path, saved_model_path = form_results()   ######\n",
    "        writer = tf.summary.FileWriter(logdir=tensorboard_path, graph=sess.graph) ######\n",
    "        for i in range(epoc):\n",
    "            steps += 1\n",
    "            batch_x, batch_y = next_batch(sample_rate,X,Y)          \n",
    "            _, v_loss = sess.run([opt,loss],feed_dict={x_ph:batch_x ,y_ph:batch_y })\n",
    "            if i % 10 == 0:######\n",
    "                print(\"------------------Epoch {}/{} ------------------\".format(i, epoc))\n",
    "                smv_L1,smv_loss = sess.run([sm_L1,sm_loss],feed_dict={x_ph:batch_x ,y_ph:batch_y })######\n",
    "                writer.add_summary(smv_L1, global_step=steps)   ######\n",
    "                writer.add_summary(smv_loss, global_step=steps) ######\n",
    "                print(\"loss = {}\".format(v_loss))\n",
    "\n",
    "        writer.close() ######\n",
    "        y_hat = sess.run([y],feed_dict={x_ph:X})\n",
    "        y_hat = np.asarray(y_hat).reshape(-1,1)\n",
    "        X_slice = np.linspace(np.amin(X), np.amax(X), num=100).reshape(-1,1)\n",
    "        Y_slice_hat = sess.run([y],feed_dict={x_ph:X_slice})\n",
    "        Y_slice_hat = np.asarray(Y_slice_hat).reshape(-1,1)\n",
    "        np.savetxt(\"yhat.csv\", np.concatenate((X,Y,y_hat),axis=1),header=\"X, Y, Yhat\", delimiter=\",\")\n",
    "        saver.save(sess, save_path=saved_model_path, global_step=steps,write_meta_graph = True)######\n",
    "    if mode ==0: ######\n",
    "        print(results_path + model_loc)\n",
    "        saver.restore(sess, save_path=tf.train.latest_checkpoint(results_path + model_loc))\n",
    "        X_slice = np.linspace(np.amin(X), np.amax(X), num=100).reshape(-1,1)\n",
    "        Y_slice_hat = sess.run([y],feed_dict={x_ph:X_slice})\n",
    "        Y_slice_hat = np.asarray(Y_slice_hat).reshape(-1,1)\n",
    "        \"\"\"\n",
    "        graph\n",
    "        \"\"\"\n",
    "        fig, ax = plt.subplots(figsize=(8,5))\n",
    "        ax.scatter(X, Y, color='blue')\n",
    "        ax.scatter(X_slice, Y_slice_hat, color='red')\n",
    "        ax.set_xlabel('X')\n",
    "        ax.set_ylabel('Y')\n",
    "        plt.title('Piecewise Linear Regression')\n",
    "        plt.show()"
   ]
  },
  {
   "cell_type": "markdown",
   "metadata": {},
   "source": [
    "### fire up the Tensorboard\n",
    "\n",
    "tensorboard --logdir=./Results\n",
    "\n"
   ]
  },
  {
   "cell_type": "code",
   "execution_count": null,
   "metadata": {},
   "outputs": [],
   "source": []
  }
 ],
 "metadata": {
  "kernelspec": {
   "display_name": "Python 3",
   "language": "python",
   "name": "python3"
  },
  "language_info": {
   "codemirror_mode": {
    "name": "ipython",
    "version": 3
   },
   "file_extension": ".py",
   "mimetype": "text/x-python",
   "name": "python",
   "nbconvert_exporter": "python",
   "pygments_lexer": "ipython3",
   "version": "3.6.5"
  }
 },
 "nbformat": 4,
 "nbformat_minor": 2
}
